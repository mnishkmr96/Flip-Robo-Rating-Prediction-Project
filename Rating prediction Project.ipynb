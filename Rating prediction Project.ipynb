{
 "cells": [
  {
   "cell_type": "code",
   "execution_count": 1,
   "metadata": {},
   "outputs": [],
   "source": [
    "import pandas as pd \n",
    "import numpy as np\n",
    "import matplotlib.pyplot as plt \n",
    "import seaborn as sns\n",
    "from sklearn.feature_extraction.text import CountVectorizer\n",
    "from sklearn.model_selection import train_test_split\n",
    "from sklearn.feature_extraction.text import TfidfTransformer\n",
    "import string\n",
    "from nltk.corpus import stopwords\n",
    "from sklearn.metrics import classification_report, confusion_matrix\n",
    "from sklearn.naive_bayes import MultinomialNB\n",
    "from sklearn.ensemble import RandomForestClassifier\n",
    "from sklearn.tree import DecisionTreeClassifier"
   ]
  },
  {
   "cell_type": "code",
   "execution_count": 2,
   "metadata": {},
   "outputs": [],
   "source": [
    "df = pd.read_csv('amazonrev.csv')"
   ]
  },
  {
   "cell_type": "code",
   "execution_count": 3,
   "metadata": {},
   "outputs": [
    {
     "data": {
      "text/plain": [
       "(20875, 3)"
      ]
     },
     "execution_count": 3,
     "metadata": {},
     "output_type": "execute_result"
    }
   ],
   "source": [
    "df.shape"
   ]
  },
  {
   "cell_type": "code",
   "execution_count": 4,
   "metadata": {},
   "outputs": [
    {
     "data": {
      "text/html": [
       "<div>\n",
       "<style scoped>\n",
       "    .dataframe tbody tr th:only-of-type {\n",
       "        vertical-align: middle;\n",
       "    }\n",
       "\n",
       "    .dataframe tbody tr th {\n",
       "        vertical-align: top;\n",
       "    }\n",
       "\n",
       "    .dataframe thead th {\n",
       "        text-align: right;\n",
       "    }\n",
       "</style>\n",
       "<table border=\"1\" class=\"dataframe\">\n",
       "  <thead>\n",
       "    <tr style=\"text-align: right;\">\n",
       "      <th></th>\n",
       "      <th>Unnamed: 0</th>\n",
       "      <th>Rating</th>\n",
       "      <th>Review</th>\n",
       "    </tr>\n",
       "  </thead>\n",
       "  <tbody>\n",
       "    <tr>\n",
       "      <th>0</th>\n",
       "      <td>0</td>\n",
       "      <td>5</td>\n",
       "      <td>The laptop came in excellent package - the pac...</td>\n",
       "    </tr>\n",
       "    <tr>\n",
       "      <th>1</th>\n",
       "      <td>1</td>\n",
       "      <td>5</td>\n",
       "      <td>I bought it on June 13 2021 at the price of 57...</td>\n",
       "    </tr>\n",
       "    <tr>\n",
       "      <th>2</th>\n",
       "      <td>2</td>\n",
       "      <td>5</td>\n",
       "      <td>Its superb\\nIts world's lightest laptop\\nSuper...</td>\n",
       "    </tr>\n",
       "    <tr>\n",
       "      <th>3</th>\n",
       "      <td>3</td>\n",
       "      <td>4</td>\n",
       "      <td>Ordered it a few days ago in the Amazon sale a...</td>\n",
       "    </tr>\n",
       "    <tr>\n",
       "      <th>4</th>\n",
       "      <td>4</td>\n",
       "      <td>5</td>\n",
       "      <td>Display and the design looks good. The blue li...</td>\n",
       "    </tr>\n",
       "  </tbody>\n",
       "</table>\n",
       "</div>"
      ],
      "text/plain": [
       "   Unnamed: 0  Rating                                             Review\n",
       "0           0       5  The laptop came in excellent package - the pac...\n",
       "1           1       5  I bought it on June 13 2021 at the price of 57...\n",
       "2           2       5  Its superb\\nIts world's lightest laptop\\nSuper...\n",
       "3           3       4  Ordered it a few days ago in the Amazon sale a...\n",
       "4           4       5  Display and the design looks good. The blue li..."
      ]
     },
     "execution_count": 4,
     "metadata": {},
     "output_type": "execute_result"
    }
   ],
   "source": [
    "df.head()"
   ]
  },
  {
   "cell_type": "code",
   "execution_count": 5,
   "metadata": {},
   "outputs": [
    {
     "data": {
      "text/plain": [
       "5    4780\n",
       "1    4421\n",
       "4    4280\n",
       "3    3815\n",
       "2    3579\n",
       "Name: Rating, dtype: int64"
      ]
     },
     "execution_count": 5,
     "metadata": {},
     "output_type": "execute_result"
    }
   ],
   "source": [
    "df.Rating.value_counts()"
   ]
  },
  {
   "cell_type": "code",
   "execution_count": 6,
   "metadata": {},
   "outputs": [
    {
     "name": "stdout",
     "output_type": "stream",
     "text": [
      "<class 'pandas.core.frame.DataFrame'>\n",
      "RangeIndex: 20875 entries, 0 to 20874\n",
      "Data columns (total 3 columns):\n",
      " #   Column      Non-Null Count  Dtype \n",
      "---  ------      --------------  ----- \n",
      " 0   Unnamed: 0  20875 non-null  int64 \n",
      " 1   Rating      20875 non-null  int64 \n",
      " 2   Review      20847 non-null  object\n",
      "dtypes: int64(2), object(1)\n",
      "memory usage: 489.4+ KB\n"
     ]
    }
   ],
   "source": [
    "df.info()"
   ]
  },
  {
   "cell_type": "code",
   "execution_count": 7,
   "metadata": {},
   "outputs": [
    {
     "data": {
      "text/plain": [
       "Unnamed: 0     0\n",
       "Rating         0\n",
       "Review        28\n",
       "dtype: int64"
      ]
     },
     "execution_count": 7,
     "metadata": {},
     "output_type": "execute_result"
    }
   ],
   "source": [
    "df.isnull().sum()"
   ]
  },
  {
   "cell_type": "code",
   "execution_count": 8,
   "metadata": {},
   "outputs": [],
   "source": [
    "df = df.dropna()"
   ]
  },
  {
   "cell_type": "code",
   "execution_count": 9,
   "metadata": {},
   "outputs": [],
   "source": [
    "df['txt length'] = df['Review'].apply(len) #new column which keep counts of the total words in the review"
   ]
  },
  {
   "cell_type": "markdown",
   "metadata": {},
   "source": [
    "# EDA"
   ]
  },
  {
   "cell_type": "code",
   "execution_count": 10,
   "metadata": {},
   "outputs": [
    {
     "data": {
      "text/plain": [
       "<seaborn.axisgrid.FacetGrid at 0x1af8d045088>"
      ]
     },
     "execution_count": 10,
     "metadata": {},
     "output_type": "execute_result"
    },
    {
     "data": {
      "image/png": "[encoded data removed]",
      "text/plain": [
       "<Figure size 1080x216 with 5 Axes>"
      ]
     },
     "metadata": {
      "needs_background": "light"
     },
     "output_type": "display_data"
    }
   ],
   "source": [
    "g = sns.FacetGrid(df, col='Rating')\n",
    "g.map(plt.hist,'txt length')"
   ]
  },
  {
   "cell_type": "code",
   "execution_count": 11,
   "metadata": {},
   "outputs": [
    {
     "data": {
      "text/plain": [
       "<matplotlib.axes._subplots.AxesSubplot at 0x1af8e94dd88>"
      ]
     },
     "execution_count": 11,
     "metadata": {},
     "output_type": "execute_result"
    },
    {
     "data": {
      "image/png": "[encoded data removed]",
      "text/plain": [
       "<Figure size 432x288 with 1 Axes>"
      ]
     },
     "metadata": {
      "needs_background": "light"
     },
     "output_type": "display_data"
    }
   ],
   "source": [
    "sns.boxplot(data=df, x='Rating', y='txt length')"
   ]
  },
  {
   "cell_type": "code",
   "execution_count": 12,
   "metadata": {},
   "outputs": [
    {
     "data": {
      "text/plain": [
       "<matplotlib.axes._subplots.AxesSubplot at 0x1af8ea4c408>"
      ]
     },
     "execution_count": 12,
     "metadata": {},
     "output_type": "execute_result"
    },
    {
     "data": {
      "image/png": "[encoded data removed]",
      "text/plain": [
       "<Figure size 432x288 with 1 Axes>"
      ]
     },
     "metadata": {
      "needs_background": "light"
     },
     "output_type": "display_data"
    }
   ],
   "source": [
    "sns.countplot(df['Rating'])"
   ]
  },
  {
   "cell_type": "code",
   "execution_count": 13,
   "metadata": {},
   "outputs": [
    {
     "data": {
      "text/plain": [
       "Text(0.5, 1.0, 'Data Distribution')"
      ]
     },
     "execution_count": 13,
     "metadata": {},
     "output_type": "execute_result"
    },
    {
     "data": {
      "image/png": "[encoded data removed]",
      "text/plain": [
       "<Figure size 1080x576 with 1 Axes>"
      ]
     },
     "metadata": {},
     "output_type": "display_data"
    }
   ],
   "source": [
    "vals = [df.Rating[df.Rating==1].count() , df.Rating[df.Rating==2].count(), df.Rating[df.Rating==3].count(),\n",
    "        df.Rating[df.Rating==4].count(), df.Rating[df.Rating==5].count()]\n",
    "plt.figure(figsize = (15, 8))\n",
    "label = ['1 Star' , '2 Stars', '3 Stars', '4 Stars', '5 Stars']\n",
    "plt.pie(vals , labels=label , autopct = '%1.0f%%')\n",
    "plt.title('Data Distribution')"
   ]
  },
  {
   "cell_type": "markdown",
   "metadata": {},
   "source": [
    "# NLP Classification Task"
   ]
  },
  {
   "cell_type": "code",
   "execution_count": 14,
   "metadata": {},
   "outputs": [],
   "source": [
    "x = df['Review']\n",
    "y = df['Rating']"
   ]
  },
  {
   "cell_type": "code",
   "execution_count": 15,
   "metadata": {},
   "outputs": [],
   "source": [
    "def text_process(mess):\n",
    "    # Check characters to see if they are in punctuation\n",
    "    nopunc = [char for char in mess if char not in string.punctuation]\n",
    "\n",
    "    # Join the characters again to form the string.\n",
    "    nopunc = ''.join(nopunc)\n",
    "    \n",
    "    # Now just remove any stopwords\n",
    "    return [word for word in nopunc.split() if word.lower() not in stopwords.words('english')]"
   ]
  },
  {
   "cell_type": "code",
   "execution_count": 16,
   "metadata": {},
   "outputs": [],
   "source": [
    "CV = CountVectorizer()"
   ]
  },
  {
   "cell_type": "code",
   "execution_count": 17,
   "metadata": {},
   "outputs": [],
   "source": [
    "x = CV.fit_transform(x)"
   ]
  },
  {
   "cell_type": "code",
   "execution_count": 18,
   "metadata": {},
   "outputs": [
    {
     "name": "stdout",
     "output_type": "stream",
     "text": [
      "Shape of Sparse Matrix:  (20847, 26492)\n",
      "Amount of Non-Zero occurences:  1102578\n"
     ]
    }
   ],
   "source": [
    "print('Shape of Sparse Matrix: ', x.shape)\n",
    "print('Amount of Non-Zero occurences: ', x.nnz)"
   ]
  },
  {
   "cell_type": "code",
   "execution_count": 19,
   "metadata": {},
   "outputs": [],
   "source": [
    "x_train, x_test, y_train, y_test = train_test_split(x, y, test_size = 0.3, random_state = 42)"
   ]
  },
  {
   "cell_type": "code",
   "execution_count": 20,
   "metadata": {},
   "outputs": [],
   "source": [
    "nb = MultinomialNB()\n",
    "nb.fit(x_train, y_train)\n",
    "pred = nb.predict(x_test)"
   ]
  },
  {
   "cell_type": "code",
   "execution_count": 21,
   "metadata": {},
   "outputs": [
    {
     "name": "stdout",
     "output_type": "stream",
     "text": [
      "[[ 951  104  107   70   37]\n",
      " [ 318  343  161  134   85]\n",
      " [ 203   83  449  284  138]\n",
      " [ 109   38  102  675  392]\n",
      " [  92   25   47  275 1033]]\n"
     ]
    }
   ],
   "source": [
    "print(confusion_matrix(y_test, pred))"
   ]
  },
  {
   "cell_type": "code",
   "execution_count": 22,
   "metadata": {
    "scrolled": true
   },
   "outputs": [
    {
     "name": "stdout",
     "output_type": "stream",
     "text": [
      "              precision    recall  f1-score   support\n",
      "\n",
      "           1       0.57      0.75      0.65      1269\n",
      "           2       0.58      0.33      0.42      1041\n",
      "           3       0.52      0.39      0.44      1157\n",
      "           4       0.47      0.51      0.49      1316\n",
      "           5       0.61      0.70      0.65      1472\n",
      "\n",
      "    accuracy                           0.55      6255\n",
      "   macro avg       0.55      0.54      0.53      6255\n",
      "weighted avg       0.55      0.55      0.54      6255\n",
      "\n"
     ]
    }
   ],
   "source": [
    "print(classification_report(y_test, pred))"
   ]
  },
  {
   "cell_type": "code",
   "execution_count": 23,
   "metadata": {},
   "outputs": [
    {
     "name": "stdout",
     "output_type": "stream",
     "text": [
      "[[1085   66   56   36   26]\n",
      " [ 340  470  108   70   53]\n",
      " [ 199   71  568  170  149]\n",
      " [ 115   23   92  704  382]\n",
      " [  83   18   48  201 1122]]\n",
      "              precision    recall  f1-score   support\n",
      "\n",
      "           1       0.60      0.86      0.70      1269\n",
      "           2       0.73      0.45      0.56      1041\n",
      "           3       0.65      0.49      0.56      1157\n",
      "           4       0.60      0.53      0.56      1316\n",
      "           5       0.65      0.76      0.70      1472\n",
      "\n",
      "    accuracy                           0.63      6255\n",
      "   macro avg       0.64      0.62      0.62      6255\n",
      "weighted avg       0.64      0.63      0.62      6255\n",
      "\n"
     ]
    }
   ],
   "source": [
    "rf = RandomForestClassifier()\n",
    "rf.fit(x_train, y_train)\n",
    "pred = rf.predict(x_test)\n",
    "print (confusion_matrix(y_test, pred))\n",
    "print (classification_report(y_test, pred))"
   ]
  },
  {
   "cell_type": "code",
   "execution_count": 24,
   "metadata": {},
   "outputs": [
    {
     "name": "stdout",
     "output_type": "stream",
     "text": [
      "[[800 215 128  61  65]\n",
      " [217 555 122  74  73]\n",
      " [143 136 600 157 121]\n",
      " [ 90  90 182 686 268]\n",
      " [ 91  86 133 281 881]]\n",
      "              precision    recall  f1-score   support\n",
      "\n",
      "           1       0.60      0.63      0.61      1269\n",
      "           2       0.51      0.53      0.52      1041\n",
      "           3       0.52      0.52      0.52      1157\n",
      "           4       0.54      0.52      0.53      1316\n",
      "           5       0.63      0.60      0.61      1472\n",
      "\n",
      "    accuracy                           0.56      6255\n",
      "   macro avg       0.56      0.56      0.56      6255\n",
      "weighted avg       0.56      0.56      0.56      6255\n",
      "\n"
     ]
    }
   ],
   "source": [
    "dt = DecisionTreeClassifier()\n",
    "dt.fit(x_train, y_train)\n",
    "pred = dt.predict(x_test)\n",
    "print (confusion_matrix(y_test, pred))\n",
    "print (classification_report(y_test, pred))"
   ]
  },
  {
   "cell_type": "code",
   "execution_count": 25,
   "metadata": {},
   "outputs": [],
   "source": [
    "from sklearn.pipeline import Pipeline"
   ]
  },
  {
   "cell_type": "code",
   "execution_count": 26,
   "metadata": {},
   "outputs": [],
   "source": [
    "pipeline = Pipeline([\n",
    "    ('bow',CountVectorizer()),\n",
    "    ('tfidf',TfidfTransformer())\n",
    "])"
   ]
  },
  {
   "cell_type": "code",
   "execution_count": 27,
   "metadata": {},
   "outputs": [],
   "source": [
    "pipeline1 = Pipeline([\n",
    "    ('pipeline', pipeline),\n",
    "    ('classifier',MultinomialNB())\n",
    "])\n",
    "pipeline2 = Pipeline([\n",
    "    ('pipeline', pipeline),\n",
    "    ('classifier',DecisionTreeClassifier())\n",
    "])\n",
    "pipeline3 = Pipeline([\n",
    "    ('pipeline', pipeline),\n",
    "    ('classifier',RandomForestClassifier())\n",
    "])\n"
   ]
  },
  {
   "cell_type": "code",
   "execution_count": 28,
   "metadata": {},
   "outputs": [],
   "source": [
    "x = df['Review']\n",
    "y= df['Rating']\n",
    "x_train, x_test, y_train, y_test = train_test_split(x, y, test_size = 0.3, random_state = 42)"
   ]
  },
  {
   "cell_type": "code",
   "execution_count": 29,
   "metadata": {},
   "outputs": [
    {
     "name": "stdout",
     "output_type": "stream",
     "text": [
      "[[1033   21   31   91   93]\n",
      " [ 466  129   56  179  211]\n",
      " [ 256   20  213  330  338]\n",
      " [ 117    6   22  546  625]\n",
      " [  83    7   12  124 1246]]\n",
      "              precision    recall  f1-score   support\n",
      "\n",
      "           1       0.53      0.81      0.64      1269\n",
      "           2       0.70      0.12      0.21      1041\n",
      "           3       0.64      0.18      0.29      1157\n",
      "           4       0.43      0.41      0.42      1316\n",
      "           5       0.50      0.85      0.63      1472\n",
      "\n",
      "    accuracy                           0.51      6255\n",
      "   macro avg       0.56      0.48      0.44      6255\n",
      "weighted avg       0.55      0.51      0.45      6255\n",
      "\n"
     ]
    }
   ],
   "source": [
    "pipeline1.fit(x_train, y_train)\n",
    "pred = pipeline1.predict(x_test)\n",
    "print(confusion_matrix(y_test, pred))\n",
    "print(classification_report(y_test, pred))"
   ]
  },
  {
   "cell_type": "code",
   "execution_count": 30,
   "metadata": {},
   "outputs": [
    {
     "name": "stdout",
     "output_type": "stream",
     "text": [
      "[[805 197 140  69  58]\n",
      " [201 558 147  75  60]\n",
      " [145 153 586 150 123]\n",
      " [ 98  85 153 717 263]\n",
      " [ 96  77 112 267 920]]\n",
      "              precision    recall  f1-score   support\n",
      "\n",
      "           1       0.60      0.63      0.62      1269\n",
      "           2       0.52      0.54      0.53      1041\n",
      "           3       0.51      0.51      0.51      1157\n",
      "           4       0.56      0.54      0.55      1316\n",
      "           5       0.65      0.62      0.64      1472\n",
      "\n",
      "    accuracy                           0.57      6255\n",
      "   macro avg       0.57      0.57      0.57      6255\n",
      "weighted avg       0.57      0.57      0.57      6255\n",
      "\n"
     ]
    }
   ],
   "source": [
    "pipeline2.fit(x_train, y_train)\n",
    "pred = pipeline2.predict(x_test)\n",
    "print(confusion_matrix(y_test, pred))\n",
    "print(classification_report(y_test, pred))"
   ]
  },
  {
   "cell_type": "code",
   "execution_count": 31,
   "metadata": {},
   "outputs": [
    {
     "name": "stdout",
     "output_type": "stream",
     "text": [
      "[[1092   62   51   35   29]\n",
      " [ 353  471   99   52   66]\n",
      " [ 212   68  569  157  151]\n",
      " [ 119   25   75  705  392]\n",
      " [  80   15   44  184 1149]]\n",
      "              precision    recall  f1-score   support\n",
      "\n",
      "           1       0.59      0.86      0.70      1269\n",
      "           2       0.73      0.45      0.56      1041\n",
      "           3       0.68      0.49      0.57      1157\n",
      "           4       0.62      0.54      0.58      1316\n",
      "           5       0.64      0.78      0.71      1472\n",
      "\n",
      "    accuracy                           0.64      6255\n",
      "   macro avg       0.65      0.62      0.62      6255\n",
      "weighted avg       0.65      0.64      0.63      6255\n",
      "\n"
     ]
    }
   ],
   "source": [
    "pipeline3.fit(x_train, y_train)\n",
    "pred = pipeline3.predict(x_test)\n",
    "print(confusion_matrix(y_test, pred))\n",
    "print(classification_report(y_test, pred))"
   ]
  },
  {
   "cell_type": "code",
   "execution_count": 32,
   "metadata": {},
   "outputs": [],
   "source": [
    "pipeline = Pipeline([\n",
    "    ('bow',CountVectorizer(analyzer=text_process))\n",
    "])"
   ]
  },
  {
   "cell_type": "code",
   "execution_count": 46,
   "metadata": {},
   "outputs": [],
   "source": [
    "pipeline1 = Pipeline([\n",
    "    ('pipeline', pipeline),\n",
    "    ('mnb',MultinomialNB())\n",
    "])\n",
    "pipeline2 = Pipeline([\n",
    "    ('pipeline', pipeline),\n",
    "    ('classifier',DecisionTreeClassifier())\n",
    "])\n",
    "pipeline3 = Pipeline([\n",
    "    ('pipeline', pipeline),\n",
    "    ('classifier',RandomForestClassifier())\n",
    "])\n"
   ]
  },
  {
   "cell_type": "code",
   "execution_count": 34,
   "metadata": {},
   "outputs": [],
   "source": [
    "x = df['Review']\n",
    "y = df['Rating']\n",
    "x_train, x_test, y_train, y_test = train_test_split(x, y, test_size = 0.3, random_state = 42, stratify = df['Rating'])"
   ]
  },
  {
   "cell_type": "code",
   "execution_count": 35,
   "metadata": {},
   "outputs": [
    {
     "name": "stdout",
     "output_type": "stream",
     "text": [
      "[[ 986   93  107   91   48]\n",
      " [ 295  367  160  144  107]\n",
      " [ 166   91  425  282  180]\n",
      " [  78   23   75  654  452]\n",
      " [  60   12   43  236 1080]]\n",
      "              precision    recall  f1-score   support\n",
      "\n",
      "           1       0.62      0.74      0.68      1325\n",
      "           2       0.63      0.34      0.44      1073\n",
      "           3       0.52      0.37      0.44      1144\n",
      "           4       0.46      0.51      0.49      1282\n",
      "           5       0.58      0.75      0.65      1431\n",
      "\n",
      "    accuracy                           0.56      6255\n",
      "   macro avg       0.56      0.54      0.54      6255\n",
      "weighted avg       0.56      0.56      0.55      6255\n",
      "\n"
     ]
    }
   ],
   "source": [
    "pipeline1.fit(x_train, y_train)\n",
    "pred = pipeline1.predict(x_test)\n",
    "print(confusion_matrix(y_test, pred))\n",
    "print(classification_report(y_test, pred))"
   ]
  },
  {
   "cell_type": "code",
   "execution_count": 36,
   "metadata": {},
   "outputs": [
    {
     "name": "stdout",
     "output_type": "stream",
     "text": [
      "[[853 223 108  75  66]\n",
      " [198 550 136  94  95]\n",
      " [139 130 589 137 149]\n",
      " [ 82  91 124 685 300]\n",
      " [ 81  82 118 230 920]]\n",
      "              precision    recall  f1-score   support\n",
      "\n",
      "           1       0.63      0.64      0.64      1325\n",
      "           2       0.51      0.51      0.51      1073\n",
      "           3       0.55      0.51      0.53      1144\n",
      "           4       0.56      0.53      0.55      1282\n",
      "           5       0.60      0.64      0.62      1431\n",
      "\n",
      "    accuracy                           0.58      6255\n",
      "   macro avg       0.57      0.57      0.57      6255\n",
      "weighted avg       0.57      0.58      0.57      6255\n",
      "\n"
     ]
    }
   ],
   "source": [
    "pipeline2.fit(x_train, y_train)\n",
    "pred = pipeline2.predict(x_test)\n",
    "print(confusion_matrix(y_test, pred))\n",
    "print(classification_report(y_test, pred))"
   ]
  },
  {
   "cell_type": "code",
   "execution_count": 37,
   "metadata": {},
   "outputs": [
    {
     "name": "stdout",
     "output_type": "stream",
     "text": [
      "[[1066   69   85   47   58]\n",
      " [ 306  497   96   81   93]\n",
      " [ 181   79  560  150  174]\n",
      " [ 102   26   84  670  400]\n",
      " [  60   20   53  149 1149]]\n",
      "              precision    recall  f1-score   support\n",
      "\n",
      "           1       0.62      0.80      0.70      1325\n",
      "           2       0.72      0.46      0.56      1073\n",
      "           3       0.64      0.49      0.55      1144\n",
      "           4       0.61      0.52      0.56      1282\n",
      "           5       0.61      0.80      0.70      1431\n",
      "\n",
      "    accuracy                           0.63      6255\n",
      "   macro avg       0.64      0.62      0.62      6255\n",
      "weighted avg       0.64      0.63      0.62      6255\n",
      "\n"
     ]
    }
   ],
   "source": [
    "pipeline3.fit(x_train, y_train)\n",
    "pred = pipeline3.predict(x_test)\n",
    "print(confusion_matrix(y_test, pred))\n",
    "print(classification_report(y_test, pred))"
   ]
  },
  {
   "cell_type": "code",
   "execution_count": null,
   "metadata": {},
   "outputs": [],
   "source": []
  },
  {
   "cell_type": "code",
   "execution_count": null,
   "metadata": {},
   "outputs": [],
   "source": []
  },
  {
   "cell_type": "code",
   "execution_count": null,
   "metadata": {},
   "outputs": [],
   "source": []
  },
  {
   "cell_type": "code",
   "execution_count": null,
   "metadata": {},
   "outputs": [],
   "source": []
  },
  {
   "cell_type": "code",
   "execution_count": null,
   "metadata": {},
   "outputs": [],
   "source": []
  },
  {
   "cell_type": "code",
   "execution_count": null,
   "metadata": {},
   "outputs": [],
   "source": []
  }
 ],
 "metadata": {
  "kernelspec": {
   "display_name": "Python 3",
   "language": "python",
   "name": "python3"
  },
  "language_info": {
   "codemirror_mode": {
    "name": "ipython",
    "version": 3
   },
   "file_extension": ".py",
   "mimetype": "text/x-python",
   "name": "python",
   "nbconvert_exporter": "python",
   "pygments_lexer": "ipython3",
   "version": "3.8.8"
  }
 },
 "nbformat": 4,
 "nbformat_minor": 4
}
